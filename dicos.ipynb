{
 "cells": [
  {
   "cell_type": "code",
   "execution_count": 8,
   "metadata": {},
   "outputs": [],
   "source": [
    "dicos = open(\"dico.txt\",\"r\")\n",
    "dico = readlines(dicos)\n",
    "close(dicos)\n",
    "\n",
    "for j in 'A':'Z'\n",
    "    for i in dico\n",
    "        if getindex(i, 1) == j\n",
    "            mots = open(\"begin_$j.txt\",\"a\")\n",
    "            write(mots, \"$i\\n\")\n",
    "            close(mots)\n",
    "        end\n",
    "    end    \n",
    "end"
   ]
  },
  {
   "cell_type": "code",
   "execution_count": 9,
   "metadata": {},
   "outputs": [],
   "source": [
    "dicos = open(\"dico.txt\",\"r\")\n",
    "dico = readlines(dicos)\n",
    "close(dicos)\n",
    "\n",
    "for j in 'A':'Z'\n",
    "    for i in dico\n",
    "        if getindex(i, lastindex(i)) == j\n",
    "            mots = open(\"end_$j.txt\",\"a\")\n",
    "            write(mots, \"$i\\n\")\n",
    "            close(mots)\n",
    "        end\n",
    "    end    \n",
    "end"
   ]
  },
  {
   "cell_type": "code",
   "execution_count": 3,
   "metadata": {},
   "outputs": [],
   "source": [
    "dicos = open(\"dico.txt\",\"r\")\n",
    "dico = readlines(dicos)\n",
    "close(dicos)\n",
    "\n",
    "    for i in dico\n",
    "        word = [\"first\",\"last\"]\n",
    "        for k in i\n",
    "            if k == 'O'\n",
    "                try\n",
    "                    mot = open(\"contain_O.txt\",\"r\")\n",
    "                    local word = readlines(mot)\n",
    "                    close(mot)                    \n",
    "                catch\n",
    "\n",
    "                end\n",
    "\n",
    "                if getindex(word, lastindex(word)) != i\n",
    "                    mots = open(\"contain_O.txt\",\"a\")\n",
    "                    write(mots, \"$i\\n\")\n",
    "                    close(mots)\n",
    "                end\n",
    "            end\n",
    "        end\n",
    "    end"
   ]
  }
 ],
 "metadata": {
  "kernelspec": {
   "display_name": "Julia 1.8.2",
   "language": "julia",
   "name": "julia-1.8"
  },
  "language_info": {
   "file_extension": ".jl",
   "mimetype": "application/julia",
   "name": "julia",
   "version": "1.8.2"
  },
  "orig_nbformat": 4
 },
 "nbformat": 4,
 "nbformat_minor": 2
}
